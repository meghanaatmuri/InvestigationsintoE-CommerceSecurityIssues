{
  "nbformat": 4,
  "nbformat_minor": 0,
  "metadata": {
    "colab": {
      "provenance": []
    },
    "kernelspec": {
      "name": "python3",
      "display_name": "Python 3"
    },
    "language_info": {
      "name": "python"
    }
  },
  "cells": [
    {
      "cell_type": "code",
      "execution_count": 1,
      "metadata": {
        "colab": {
          "base_uri": "https://localhost:8080/"
        },
        "id": "fHsYV40aAnJK",
        "outputId": "cd9aa74b-69f3-46b1-cae1-56f14125fd0a"
      },
      "outputs": [
        {
          "output_type": "stream",
          "name": "stdout",
          "text": [
            "Website is accessible\n",
            "Login functionality may be vulnerable to brute force attacks\n",
            "Website uses HTTPS encryption\n",
            "Website is secure against SQL injection attacks\n"
          ]
        }
      ],
      "source": [
        "# The below code Investigations into E-Commerce Security Issues in websites   \n",
        "import requests\n",
        "from bs4 import BeautifulSoup\n",
        "\n",
        "# Step 1: Define the target website\n",
        "url = \"https://now.dstv.com/livetv/play/bb38ae98-56f1-45d5-a5f7-03239c543e98\"\n",
        "\n",
        "\n",
        "# Step 2: Check website accessibility\n",
        "try:\n",
        "    response = requests.get(url)\n",
        "    if response.status_code == 200:\n",
        "        print(\"Website is accessible\")\n",
        "    else:\n",
        "        print(f\"Website is not accessible (error code {response.status_code})\")\n",
        "except requests.exceptions.RequestException as e:\n",
        "    print(\"Website is not accessible:\", e)\n",
        "\n",
        "# Step 3: Test login functionality\n",
        "login_url = \"https://example.com/login\"\n",
        "login_data = {\"username\": \"fakeuser\", \"password\": \"fakepassword\"}\n",
        "response = requests.post(login_url, data=login_data)\n",
        "if response.status_code == 200 and \"Invalid credentials\" in response.text:\n",
        "    print(\"Login functionality is secure\")\n",
        "else:\n",
        "    print(\"Login functionality may be vulnerable to brute force attacks\")\n",
        "\n",
        "# Step 4: Check for HTTPS encryption\n",
        "if \"https://\" in url:\n",
        "    print(\"Website uses HTTPS encryption\")\n",
        "else:\n",
        "    print(\"Website does not use HTTPS encryption\")\n",
        "\n",
        "# Step 5: Test for SQL injection vulnerabilities\n",
        "payload = \"' OR 1=1 --\"\n",
        "search_url = \"https://example.com/search?q=\" + payload\n",
        "response = requests.get(search_url)\n",
        "if \"SQL syntax error\" in response.text:\n",
        "    print(\"Website is vulnerable to SQL injection attacks\")\n",
        "else:\n",
        "    print(\"Website is secure against SQL injection attacks\")\n",
        "\n",
        "# Step 6: Check for Cross-Site Scripting (XSS) vulnerabilities\n",
        "payload = \"<script>alert('XSS')</script>\"\n",
        "search_url = \"https://example.com/search?q=\" + payload\n",
        "response = requests.get(search_url)\n"
      ]
    }
  ]
}